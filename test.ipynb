{
 "cells": [
  {
   "cell_type": "code",
   "execution_count": 3,
   "metadata": {},
   "outputs": [],
   "source": [
    "import pandas as pd\n",
    "\n",
    "det_match = pd.read_csv('det_match.csv')"
   ]
  },
  {
   "cell_type": "code",
   "execution_count": 4,
   "outputs": [
    {
     "data": {
      "text/plain": "      ObjectID                              GlobalID species_category  \\\n0          7.0  060785bf-d736-4293-9812-214a3ebf66cc           possum   \n1          8.0  07d7a5be-0dac-4185-b6ec-0a5aea701fd2           possum   \n2          9.0  0b14565d-1486-47f1-9eb2-857cda6f067c           possum   \n3         10.0  6d72e8e7-a855-4a6b-9019-10561557c87a           aerial   \n4         11.0  69d1f38e-58a6-4826-972d-8a46f70043dd           possum   \n...        ...                                   ...              ...   \n6115       NaN                                   NaN              NaN   \n6116       NaN                                   NaN              NaN   \n6117       NaN                                   NaN              NaN   \n6118       NaN                                   NaN              NaN   \n6119       NaN                                   NaN         Arboreal   \n\n     species_specific species_other Observer:       detection_time  \\\n0          brush_tail           NaN   primary  2022-10-24 20:46:00   \n1          brush_tail           NaN   primary  2022-10-24 20:50:00   \n2          brush_tail           NaN   primary  2022-10-24 20:54:00   \n3                 NaN           NaN   primary  2022-10-24 20:56:00   \n4          brush_tail           NaN   primary  2022-10-24 20:58:00   \n...               ...           ...       ...                  ...   \n6115            Koala           NaN       NaN  2021-07-18 22:40:00   \n6116              NaN           NaN       NaN  2021-07-18 22:58:00   \n6117              NaN           NaN       NaN  2021-07-18 02:06:00   \n6118            Koala           NaN       NaN  2021-07-19 21:42:00   \n6119            Koala           NaN       NaN  2022-04-28 22:55:00   \n\n     probability  detection_count                          comments  ...  \\\n0            Med              1.0                               NaN  ...   \n1           High              1.0                               NaN  ...   \n2           High              1.0                               NaN  ...   \n3            NaN              1.0  Too low in canopy to ID with RBG  ...   \n4        Certain              2.0                               NaN  ...   \n...          ...              ...                               ...  ...   \n6115         NaN              2.0                               NaN  ...   \n6116         NaN              NaN                               NaN  ...   \n6117         NaN              NaN                               NaN  ...   \n6118         NaN              NaN                               NaN  ...   \n6119         NaN              NaN                          Arboreal  ...   \n\n      ground_temp                           air_pilot            air_lat  \\\n0            17.7                      Shaymus Gooley         -33.644563   \n1            17.7                      Shaymus Gooley         -33.644563   \n2            17.7                      Shaymus Gooley         -33.644563   \n3            17.7                      Shaymus Gooley         -33.644563   \n4            17.7                      Shaymus Gooley         -33.644563   \n...           ...                                 ...                ...   \n6115          4.2                        Chad Beranek         -35.065095   \n6116          3.8                        Chad Beranek         -35.065105   \n6117          256                                 NaN                  0   \n6118          256                                 NaN                  0   \n6119  [17.9, nan]  ['Sabrina Velasco', 'Fin Murphey']  [-33.171415, 0.0]   \n\n                air_lon                                        kml_matches  \\\n0            151.262567  ['drive/Shareddrives/Thermal File Archive/.UGC...   \n1            151.262567  ['drive/Shareddrives/Thermal File Archive/.UGC...   \n2            151.262567  ['drive/Shareddrives/Thermal File Archive/.UGC...   \n3            151.262567  ['drive/Shareddrives/Thermal File Archive/.UGC...   \n4            151.262567  ['drive/Shareddrives/Thermal File Archive/.UGC...   \n...                 ...                                                ...   \n6115         150.121395  ['drive/Shareddrives/Thermal File Archive/.UGC...   \n6116         150.121384  ['drive/Shareddrives/Thermal File Archive/.UGC...   \n6117                  0  ['drive/Shareddrives/Thermal File Archive/.UGC...   \n6118                  0  ['drive/Shareddrives/Thermal File Archive/.UGC...   \n6119  [151.239671, 0.0]  ['drive/Shareddrives/Thermal File Archive/.UGC...   \n\n              client  mission        kml_location          kml_plot  \\\n0     Koala Strategy      NaN                 NaN  SYB07_hPL_287447   \n1     Koala Strategy      NaN                 NaN  SYB07_hPL_287447   \n2     Koala Strategy      NaN                 NaN  SYB07_hPL_287447   \n3     Koala Strategy      NaN                 NaN  SYB07_hPL_287447   \n4     Koala Strategy      NaN                 NaN  SYB07_hPL_287447   \n...              ...      ...                 ...               ...   \n6115             NaN      NaN  Douglas Paddock Rd                 1   \n6116             NaN      NaN  Douglas Paddock Rd                 1   \n6117             NaN      NaN  Douglas Paddock Rd                 1   \n6118             NaN      NaN  Douglas Paddock Rd                 2   \n6119  National Parks  Kuluwan             Kuluwan           FR4-5 S   \n\n                                                    KML  \n0     drive/Shareddrives/Thermal File Archive/.UGCS/...  \n1     drive/Shareddrives/Thermal File Archive/.UGCS/...  \n2     drive/Shareddrives/Thermal File Archive/.UGCS/...  \n3     drive/Shareddrives/Thermal File Archive/.UGCS/...  \n4     drive/Shareddrives/Thermal File Archive/.UGCS/...  \n...                                                 ...  \n6115  drive/Shareddrives/Thermal File Archive/.UGCS/...  \n6116  drive/Shareddrives/Thermal File Archive/.UGCS/...  \n6117  drive/Shareddrives/Thermal File Archive/.UGCS/...  \n6118  drive/Shareddrives/Thermal File Archive/.UGCS/...  \n6119  drive/Shareddrives/Thermal File Archive/.UGCS/...  \n\n[6120 rows x 126 columns]",
      "text/html": "<div>\n<style scoped>\n    .dataframe tbody tr th:only-of-type {\n        vertical-align: middle;\n    }\n\n    .dataframe tbody tr th {\n        vertical-align: top;\n    }\n\n    .dataframe thead th {\n        text-align: right;\n    }\n</style>\n<table border=\"1\" class=\"dataframe\">\n  <thead>\n    <tr style=\"text-align: right;\">\n      <th></th>\n      <th>ObjectID</th>\n      <th>GlobalID</th>\n      <th>species_category</th>\n      <th>species_specific</th>\n      <th>species_other</th>\n      <th>Observer:</th>\n      <th>detection_time</th>\n      <th>probability</th>\n      <th>detection_count</th>\n      <th>comments</th>\n      <th>...</th>\n      <th>ground_temp</th>\n      <th>air_pilot</th>\n      <th>air_lat</th>\n      <th>air_lon</th>\n      <th>kml_matches</th>\n      <th>client</th>\n      <th>mission</th>\n      <th>kml_location</th>\n      <th>kml_plot</th>\n      <th>KML</th>\n    </tr>\n  </thead>\n  <tbody>\n    <tr>\n      <th>0</th>\n      <td>7.0</td>\n      <td>060785bf-d736-4293-9812-214a3ebf66cc</td>\n      <td>possum</td>\n      <td>brush_tail</td>\n      <td>NaN</td>\n      <td>primary</td>\n      <td>2022-10-24 20:46:00</td>\n      <td>Med</td>\n      <td>1.0</td>\n      <td>NaN</td>\n      <td>...</td>\n      <td>17.7</td>\n      <td>Shaymus Gooley</td>\n      <td>-33.644563</td>\n      <td>151.262567</td>\n      <td>['drive/Shareddrives/Thermal File Archive/.UGC...</td>\n      <td>Koala Strategy</td>\n      <td>NaN</td>\n      <td>NaN</td>\n      <td>SYB07_hPL_287447</td>\n      <td>drive/Shareddrives/Thermal File Archive/.UGCS/...</td>\n    </tr>\n    <tr>\n      <th>1</th>\n      <td>8.0</td>\n      <td>07d7a5be-0dac-4185-b6ec-0a5aea701fd2</td>\n      <td>possum</td>\n      <td>brush_tail</td>\n      <td>NaN</td>\n      <td>primary</td>\n      <td>2022-10-24 20:50:00</td>\n      <td>High</td>\n      <td>1.0</td>\n      <td>NaN</td>\n      <td>...</td>\n      <td>17.7</td>\n      <td>Shaymus Gooley</td>\n      <td>-33.644563</td>\n      <td>151.262567</td>\n      <td>['drive/Shareddrives/Thermal File Archive/.UGC...</td>\n      <td>Koala Strategy</td>\n      <td>NaN</td>\n      <td>NaN</td>\n      <td>SYB07_hPL_287447</td>\n      <td>drive/Shareddrives/Thermal File Archive/.UGCS/...</td>\n    </tr>\n    <tr>\n      <th>2</th>\n      <td>9.0</td>\n      <td>0b14565d-1486-47f1-9eb2-857cda6f067c</td>\n      <td>possum</td>\n      <td>brush_tail</td>\n      <td>NaN</td>\n      <td>primary</td>\n      <td>2022-10-24 20:54:00</td>\n      <td>High</td>\n      <td>1.0</td>\n      <td>NaN</td>\n      <td>...</td>\n      <td>17.7</td>\n      <td>Shaymus Gooley</td>\n      <td>-33.644563</td>\n      <td>151.262567</td>\n      <td>['drive/Shareddrives/Thermal File Archive/.UGC...</td>\n      <td>Koala Strategy</td>\n      <td>NaN</td>\n      <td>NaN</td>\n      <td>SYB07_hPL_287447</td>\n      <td>drive/Shareddrives/Thermal File Archive/.UGCS/...</td>\n    </tr>\n    <tr>\n      <th>3</th>\n      <td>10.0</td>\n      <td>6d72e8e7-a855-4a6b-9019-10561557c87a</td>\n      <td>aerial</td>\n      <td>NaN</td>\n      <td>NaN</td>\n      <td>primary</td>\n      <td>2022-10-24 20:56:00</td>\n      <td>NaN</td>\n      <td>1.0</td>\n      <td>Too low in canopy to ID with RBG</td>\n      <td>...</td>\n      <td>17.7</td>\n      <td>Shaymus Gooley</td>\n      <td>-33.644563</td>\n      <td>151.262567</td>\n      <td>['drive/Shareddrives/Thermal File Archive/.UGC...</td>\n      <td>Koala Strategy</td>\n      <td>NaN</td>\n      <td>NaN</td>\n      <td>SYB07_hPL_287447</td>\n      <td>drive/Shareddrives/Thermal File Archive/.UGCS/...</td>\n    </tr>\n    <tr>\n      <th>4</th>\n      <td>11.0</td>\n      <td>69d1f38e-58a6-4826-972d-8a46f70043dd</td>\n      <td>possum</td>\n      <td>brush_tail</td>\n      <td>NaN</td>\n      <td>primary</td>\n      <td>2022-10-24 20:58:00</td>\n      <td>Certain</td>\n      <td>2.0</td>\n      <td>NaN</td>\n      <td>...</td>\n      <td>17.7</td>\n      <td>Shaymus Gooley</td>\n      <td>-33.644563</td>\n      <td>151.262567</td>\n      <td>['drive/Shareddrives/Thermal File Archive/.UGC...</td>\n      <td>Koala Strategy</td>\n      <td>NaN</td>\n      <td>NaN</td>\n      <td>SYB07_hPL_287447</td>\n      <td>drive/Shareddrives/Thermal File Archive/.UGCS/...</td>\n    </tr>\n    <tr>\n      <th>...</th>\n      <td>...</td>\n      <td>...</td>\n      <td>...</td>\n      <td>...</td>\n      <td>...</td>\n      <td>...</td>\n      <td>...</td>\n      <td>...</td>\n      <td>...</td>\n      <td>...</td>\n      <td>...</td>\n      <td>...</td>\n      <td>...</td>\n      <td>...</td>\n      <td>...</td>\n      <td>...</td>\n      <td>...</td>\n      <td>...</td>\n      <td>...</td>\n      <td>...</td>\n      <td>...</td>\n    </tr>\n    <tr>\n      <th>6115</th>\n      <td>NaN</td>\n      <td>NaN</td>\n      <td>NaN</td>\n      <td>Koala</td>\n      <td>NaN</td>\n      <td>NaN</td>\n      <td>2021-07-18 22:40:00</td>\n      <td>NaN</td>\n      <td>2.0</td>\n      <td>NaN</td>\n      <td>...</td>\n      <td>4.2</td>\n      <td>Chad Beranek</td>\n      <td>-35.065095</td>\n      <td>150.121395</td>\n      <td>['drive/Shareddrives/Thermal File Archive/.UGC...</td>\n      <td>NaN</td>\n      <td>NaN</td>\n      <td>Douglas Paddock Rd</td>\n      <td>1</td>\n      <td>drive/Shareddrives/Thermal File Archive/.UGCS/...</td>\n    </tr>\n    <tr>\n      <th>6116</th>\n      <td>NaN</td>\n      <td>NaN</td>\n      <td>NaN</td>\n      <td>NaN</td>\n      <td>NaN</td>\n      <td>NaN</td>\n      <td>2021-07-18 22:58:00</td>\n      <td>NaN</td>\n      <td>NaN</td>\n      <td>NaN</td>\n      <td>...</td>\n      <td>3.8</td>\n      <td>Chad Beranek</td>\n      <td>-35.065105</td>\n      <td>150.121384</td>\n      <td>['drive/Shareddrives/Thermal File Archive/.UGC...</td>\n      <td>NaN</td>\n      <td>NaN</td>\n      <td>Douglas Paddock Rd</td>\n      <td>1</td>\n      <td>drive/Shareddrives/Thermal File Archive/.UGCS/...</td>\n    </tr>\n    <tr>\n      <th>6117</th>\n      <td>NaN</td>\n      <td>NaN</td>\n      <td>NaN</td>\n      <td>NaN</td>\n      <td>NaN</td>\n      <td>NaN</td>\n      <td>2021-07-18 02:06:00</td>\n      <td>NaN</td>\n      <td>NaN</td>\n      <td>NaN</td>\n      <td>...</td>\n      <td>256</td>\n      <td>NaN</td>\n      <td>0</td>\n      <td>0</td>\n      <td>['drive/Shareddrives/Thermal File Archive/.UGC...</td>\n      <td>NaN</td>\n      <td>NaN</td>\n      <td>Douglas Paddock Rd</td>\n      <td>1</td>\n      <td>drive/Shareddrives/Thermal File Archive/.UGCS/...</td>\n    </tr>\n    <tr>\n      <th>6118</th>\n      <td>NaN</td>\n      <td>NaN</td>\n      <td>NaN</td>\n      <td>Koala</td>\n      <td>NaN</td>\n      <td>NaN</td>\n      <td>2021-07-19 21:42:00</td>\n      <td>NaN</td>\n      <td>NaN</td>\n      <td>NaN</td>\n      <td>...</td>\n      <td>256</td>\n      <td>NaN</td>\n      <td>0</td>\n      <td>0</td>\n      <td>['drive/Shareddrives/Thermal File Archive/.UGC...</td>\n      <td>NaN</td>\n      <td>NaN</td>\n      <td>Douglas Paddock Rd</td>\n      <td>2</td>\n      <td>drive/Shareddrives/Thermal File Archive/.UGCS/...</td>\n    </tr>\n    <tr>\n      <th>6119</th>\n      <td>NaN</td>\n      <td>NaN</td>\n      <td>Arboreal</td>\n      <td>Koala</td>\n      <td>NaN</td>\n      <td>NaN</td>\n      <td>2022-04-28 22:55:00</td>\n      <td>NaN</td>\n      <td>NaN</td>\n      <td>Arboreal</td>\n      <td>...</td>\n      <td>[17.9, nan]</td>\n      <td>['Sabrina Velasco', 'Fin Murphey']</td>\n      <td>[-33.171415, 0.0]</td>\n      <td>[151.239671, 0.0]</td>\n      <td>['drive/Shareddrives/Thermal File Archive/.UGC...</td>\n      <td>National Parks</td>\n      <td>Kuluwan</td>\n      <td>Kuluwan</td>\n      <td>FR4-5 S</td>\n      <td>drive/Shareddrives/Thermal File Archive/.UGCS/...</td>\n    </tr>\n  </tbody>\n</table>\n<p>6120 rows × 126 columns</p>\n</div>"
     },
     "execution_count": 4,
     "metadata": {},
     "output_type": "execute_result"
    }
   ],
   "source": [
    "det_match"
   ],
   "metadata": {
    "collapsed": false
   }
  },
  {
   "cell_type": "code",
   "execution_count": 22,
   "outputs": [],
   "source": [
    "# Remove unnecessary columns\n",
    "drop_columns = det_match.keys().tolist()\n",
    "drop_columns.remove('detection_time')\n",
    "drop_columns.remove('probability')\n",
    "drop_columns.remove('detection_count')\n",
    "drop_columns.remove('drone_lat')\n",
    "drop_columns.remove('drone_lon')\n",
    "drop_columns.remove('surveyID')\n",
    "drop_columns.remove('KML')\n",
    "drop_columns.remove('species_category')\n",
    "drop_columns.remove('species_name')\n",
    "det_match = det_match.drop(columns=drop_columns)"
   ],
   "metadata": {
    "collapsed": false
   }
  },
  {
   "cell_type": "code",
   "execution_count": 23,
   "outputs": [
    {
     "data": {
      "text/plain": "(6120, 9)"
     },
     "execution_count": 23,
     "metadata": {},
     "output_type": "execute_result"
    }
   ],
   "source": [
    "det_match.shape"
   ],
   "metadata": {
    "collapsed": false
   }
  },
  {
   "cell_type": "code",
   "execution_count": null,
   "outputs": [],
   "source": [],
   "metadata": {
    "collapsed": false
   }
  }
 ],
 "metadata": {
  "kernelspec": {
   "display_name": "ml-env",
   "language": "python",
   "name": "python3"
  },
  "language_info": {
   "name": "python",
   "version": "3.10.4 (main, Mar 31 2022, 03:38:35) [Clang 12.0.0 ]"
  },
  "orig_nbformat": 4,
  "vscode": {
   "interpreter": {
    "hash": "50cf1ee85139cd0f1635a7c40230870b8881401e8eb1051183ea9ad383958cc6"
   }
  }
 },
 "nbformat": 4,
 "nbformat_minor": 2
}

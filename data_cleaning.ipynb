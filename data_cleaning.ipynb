{
 "cells": [
  {
   "cell_type": "code",
   "execution_count": 112,
   "metadata": {},
   "outputs": [
    {
     "data": {
      "text/plain": "      ObjectID                              GlobalID species_category  \\\n0          7.0  060785bf-d736-4293-9812-214a3ebf66cc           possum   \n1          8.0  07d7a5be-0dac-4185-b6ec-0a5aea701fd2           possum   \n2          9.0  0b14565d-1486-47f1-9eb2-857cda6f067c           possum   \n3         10.0  6d72e8e7-a855-4a6b-9019-10561557c87a           aerial   \n4         11.0  69d1f38e-58a6-4826-972d-8a46f70043dd           possum   \n...        ...                                   ...              ...   \n6115       NaN                                   NaN              NaN   \n6116       NaN                                   NaN              NaN   \n6117       NaN                                   NaN              NaN   \n6118       NaN                                   NaN              NaN   \n6119       NaN                                   NaN         Arboreal   \n\n     species_specific species_other Observer:       detection_time  \\\n0          brush_tail           NaN   primary  2022-10-24 20:46:00   \n1          brush_tail           NaN   primary  2022-10-24 20:50:00   \n2          brush_tail           NaN   primary  2022-10-24 20:54:00   \n3                 NaN           NaN   primary  2022-10-24 20:56:00   \n4          brush_tail           NaN   primary  2022-10-24 20:58:00   \n...               ...           ...       ...                  ...   \n6115            Koala           NaN       NaN  2021-07-18 22:40:00   \n6116              NaN           NaN       NaN  2021-07-18 22:58:00   \n6117              NaN           NaN       NaN  2021-07-18 02:06:00   \n6118            Koala           NaN       NaN  2021-07-19 21:42:00   \n6119            Koala           NaN       NaN  2022-04-28 22:55:00   \n\n     probability  detection_count                          comments  ...  \\\n0            Med              1.0                               NaN  ...   \n1           High              1.0                               NaN  ...   \n2           High              1.0                               NaN  ...   \n3            NaN              1.0  Too low in canopy to ID with RBG  ...   \n4        Certain              2.0                               NaN  ...   \n...          ...              ...                               ...  ...   \n6115         NaN              2.0                               NaN  ...   \n6116         NaN              NaN                               NaN  ...   \n6117         NaN              NaN                               NaN  ...   \n6118         NaN              NaN                               NaN  ...   \n6119         NaN              NaN                          Arboreal  ...   \n\n      ground_temp                           air_pilot            air_lat  \\\n0            17.7                      Shaymus Gooley         -33.644563   \n1            17.7                      Shaymus Gooley         -33.644563   \n2            17.7                      Shaymus Gooley         -33.644563   \n3            17.7                      Shaymus Gooley         -33.644563   \n4            17.7                      Shaymus Gooley         -33.644563   \n...           ...                                 ...                ...   \n6115          4.2                        Chad Beranek         -35.065095   \n6116          3.8                        Chad Beranek         -35.065105   \n6117          256                                 NaN                  0   \n6118          256                                 NaN                  0   \n6119  [17.9, nan]  ['Sabrina Velasco', 'Fin Murphey']  [-33.171415, 0.0]   \n\n                air_lon                                        kml_matches  \\\n0            151.262567  ['drive/Shareddrives/Thermal File Archive/.UGC...   \n1            151.262567  ['drive/Shareddrives/Thermal File Archive/.UGC...   \n2            151.262567  ['drive/Shareddrives/Thermal File Archive/.UGC...   \n3            151.262567  ['drive/Shareddrives/Thermal File Archive/.UGC...   \n4            151.262567  ['drive/Shareddrives/Thermal File Archive/.UGC...   \n...                 ...                                                ...   \n6115         150.121395  ['drive/Shareddrives/Thermal File Archive/.UGC...   \n6116         150.121384  ['drive/Shareddrives/Thermal File Archive/.UGC...   \n6117                  0  ['drive/Shareddrives/Thermal File Archive/.UGC...   \n6118                  0  ['drive/Shareddrives/Thermal File Archive/.UGC...   \n6119  [151.239671, 0.0]  ['drive/Shareddrives/Thermal File Archive/.UGC...   \n\n              client  mission        kml_location          kml_plot  \\\n0     Koala Strategy      NaN                 NaN  SYB07_hPL_287447   \n1     Koala Strategy      NaN                 NaN  SYB07_hPL_287447   \n2     Koala Strategy      NaN                 NaN  SYB07_hPL_287447   \n3     Koala Strategy      NaN                 NaN  SYB07_hPL_287447   \n4     Koala Strategy      NaN                 NaN  SYB07_hPL_287447   \n...              ...      ...                 ...               ...   \n6115             NaN      NaN  Douglas Paddock Rd                 1   \n6116             NaN      NaN  Douglas Paddock Rd                 1   \n6117             NaN      NaN  Douglas Paddock Rd                 1   \n6118             NaN      NaN  Douglas Paddock Rd                 2   \n6119  National Parks  Kuluwan             Kuluwan           FR4-5 S   \n\n                                                    KML  \n0     drive/Shareddrives/Thermal File Archive/.UGCS/...  \n1     drive/Shareddrives/Thermal File Archive/.UGCS/...  \n2     drive/Shareddrives/Thermal File Archive/.UGCS/...  \n3     drive/Shareddrives/Thermal File Archive/.UGCS/...  \n4     drive/Shareddrives/Thermal File Archive/.UGCS/...  \n...                                                 ...  \n6115  drive/Shareddrives/Thermal File Archive/.UGCS/...  \n6116  drive/Shareddrives/Thermal File Archive/.UGCS/...  \n6117  drive/Shareddrives/Thermal File Archive/.UGCS/...  \n6118  drive/Shareddrives/Thermal File Archive/.UGCS/...  \n6119  drive/Shareddrives/Thermal File Archive/.UGCS/...  \n\n[6120 rows x 126 columns]",
      "text/html": "<div>\n<style scoped>\n    .dataframe tbody tr th:only-of-type {\n        vertical-align: middle;\n    }\n\n    .dataframe tbody tr th {\n        vertical-align: top;\n    }\n\n    .dataframe thead th {\n        text-align: right;\n    }\n</style>\n<table border=\"1\" class=\"dataframe\">\n  <thead>\n    <tr style=\"text-align: right;\">\n      <th></th>\n      <th>ObjectID</th>\n      <th>GlobalID</th>\n      <th>species_category</th>\n      <th>species_specific</th>\n      <th>species_other</th>\n      <th>Observer:</th>\n      <th>detection_time</th>\n      <th>probability</th>\n      <th>detection_count</th>\n      <th>comments</th>\n      <th>...</th>\n      <th>ground_temp</th>\n      <th>air_pilot</th>\n      <th>air_lat</th>\n      <th>air_lon</th>\n      <th>kml_matches</th>\n      <th>client</th>\n      <th>mission</th>\n      <th>kml_location</th>\n      <th>kml_plot</th>\n      <th>KML</th>\n    </tr>\n  </thead>\n  <tbody>\n    <tr>\n      <th>0</th>\n      <td>7.0</td>\n      <td>060785bf-d736-4293-9812-214a3ebf66cc</td>\n      <td>possum</td>\n      <td>brush_tail</td>\n      <td>NaN</td>\n      <td>primary</td>\n      <td>2022-10-24 20:46:00</td>\n      <td>Med</td>\n      <td>1.0</td>\n      <td>NaN</td>\n      <td>...</td>\n      <td>17.7</td>\n      <td>Shaymus Gooley</td>\n      <td>-33.644563</td>\n      <td>151.262567</td>\n      <td>['drive/Shareddrives/Thermal File Archive/.UGC...</td>\n      <td>Koala Strategy</td>\n      <td>NaN</td>\n      <td>NaN</td>\n      <td>SYB07_hPL_287447</td>\n      <td>drive/Shareddrives/Thermal File Archive/.UGCS/...</td>\n    </tr>\n    <tr>\n      <th>1</th>\n      <td>8.0</td>\n      <td>07d7a5be-0dac-4185-b6ec-0a5aea701fd2</td>\n      <td>possum</td>\n      <td>brush_tail</td>\n      <td>NaN</td>\n      <td>primary</td>\n      <td>2022-10-24 20:50:00</td>\n      <td>High</td>\n      <td>1.0</td>\n      <td>NaN</td>\n      <td>...</td>\n      <td>17.7</td>\n      <td>Shaymus Gooley</td>\n      <td>-33.644563</td>\n      <td>151.262567</td>\n      <td>['drive/Shareddrives/Thermal File Archive/.UGC...</td>\n      <td>Koala Strategy</td>\n      <td>NaN</td>\n      <td>NaN</td>\n      <td>SYB07_hPL_287447</td>\n      <td>drive/Shareddrives/Thermal File Archive/.UGCS/...</td>\n    </tr>\n    <tr>\n      <th>2</th>\n      <td>9.0</td>\n      <td>0b14565d-1486-47f1-9eb2-857cda6f067c</td>\n      <td>possum</td>\n      <td>brush_tail</td>\n      <td>NaN</td>\n      <td>primary</td>\n      <td>2022-10-24 20:54:00</td>\n      <td>High</td>\n      <td>1.0</td>\n      <td>NaN</td>\n      <td>...</td>\n      <td>17.7</td>\n      <td>Shaymus Gooley</td>\n      <td>-33.644563</td>\n      <td>151.262567</td>\n      <td>['drive/Shareddrives/Thermal File Archive/.UGC...</td>\n      <td>Koala Strategy</td>\n      <td>NaN</td>\n      <td>NaN</td>\n      <td>SYB07_hPL_287447</td>\n      <td>drive/Shareddrives/Thermal File Archive/.UGCS/...</td>\n    </tr>\n    <tr>\n      <th>3</th>\n      <td>10.0</td>\n      <td>6d72e8e7-a855-4a6b-9019-10561557c87a</td>\n      <td>aerial</td>\n      <td>NaN</td>\n      <td>NaN</td>\n      <td>primary</td>\n      <td>2022-10-24 20:56:00</td>\n      <td>NaN</td>\n      <td>1.0</td>\n      <td>Too low in canopy to ID with RBG</td>\n      <td>...</td>\n      <td>17.7</td>\n      <td>Shaymus Gooley</td>\n      <td>-33.644563</td>\n      <td>151.262567</td>\n      <td>['drive/Shareddrives/Thermal File Archive/.UGC...</td>\n      <td>Koala Strategy</td>\n      <td>NaN</td>\n      <td>NaN</td>\n      <td>SYB07_hPL_287447</td>\n      <td>drive/Shareddrives/Thermal File Archive/.UGCS/...</td>\n    </tr>\n    <tr>\n      <th>4</th>\n      <td>11.0</td>\n      <td>69d1f38e-58a6-4826-972d-8a46f70043dd</td>\n      <td>possum</td>\n      <td>brush_tail</td>\n      <td>NaN</td>\n      <td>primary</td>\n      <td>2022-10-24 20:58:00</td>\n      <td>Certain</td>\n      <td>2.0</td>\n      <td>NaN</td>\n      <td>...</td>\n      <td>17.7</td>\n      <td>Shaymus Gooley</td>\n      <td>-33.644563</td>\n      <td>151.262567</td>\n      <td>['drive/Shareddrives/Thermal File Archive/.UGC...</td>\n      <td>Koala Strategy</td>\n      <td>NaN</td>\n      <td>NaN</td>\n      <td>SYB07_hPL_287447</td>\n      <td>drive/Shareddrives/Thermal File Archive/.UGCS/...</td>\n    </tr>\n    <tr>\n      <th>...</th>\n      <td>...</td>\n      <td>...</td>\n      <td>...</td>\n      <td>...</td>\n      <td>...</td>\n      <td>...</td>\n      <td>...</td>\n      <td>...</td>\n      <td>...</td>\n      <td>...</td>\n      <td>...</td>\n      <td>...</td>\n      <td>...</td>\n      <td>...</td>\n      <td>...</td>\n      <td>...</td>\n      <td>...</td>\n      <td>...</td>\n      <td>...</td>\n      <td>...</td>\n      <td>...</td>\n    </tr>\n    <tr>\n      <th>6115</th>\n      <td>NaN</td>\n      <td>NaN</td>\n      <td>NaN</td>\n      <td>Koala</td>\n      <td>NaN</td>\n      <td>NaN</td>\n      <td>2021-07-18 22:40:00</td>\n      <td>NaN</td>\n      <td>2.0</td>\n      <td>NaN</td>\n      <td>...</td>\n      <td>4.2</td>\n      <td>Chad Beranek</td>\n      <td>-35.065095</td>\n      <td>150.121395</td>\n      <td>['drive/Shareddrives/Thermal File Archive/.UGC...</td>\n      <td>NaN</td>\n      <td>NaN</td>\n      <td>Douglas Paddock Rd</td>\n      <td>1</td>\n      <td>drive/Shareddrives/Thermal File Archive/.UGCS/...</td>\n    </tr>\n    <tr>\n      <th>6116</th>\n      <td>NaN</td>\n      <td>NaN</td>\n      <td>NaN</td>\n      <td>NaN</td>\n      <td>NaN</td>\n      <td>NaN</td>\n      <td>2021-07-18 22:58:00</td>\n      <td>NaN</td>\n      <td>NaN</td>\n      <td>NaN</td>\n      <td>...</td>\n      <td>3.8</td>\n      <td>Chad Beranek</td>\n      <td>-35.065105</td>\n      <td>150.121384</td>\n      <td>['drive/Shareddrives/Thermal File Archive/.UGC...</td>\n      <td>NaN</td>\n      <td>NaN</td>\n      <td>Douglas Paddock Rd</td>\n      <td>1</td>\n      <td>drive/Shareddrives/Thermal File Archive/.UGCS/...</td>\n    </tr>\n    <tr>\n      <th>6117</th>\n      <td>NaN</td>\n      <td>NaN</td>\n      <td>NaN</td>\n      <td>NaN</td>\n      <td>NaN</td>\n      <td>NaN</td>\n      <td>2021-07-18 02:06:00</td>\n      <td>NaN</td>\n      <td>NaN</td>\n      <td>NaN</td>\n      <td>...</td>\n      <td>256</td>\n      <td>NaN</td>\n      <td>0</td>\n      <td>0</td>\n      <td>['drive/Shareddrives/Thermal File Archive/.UGC...</td>\n      <td>NaN</td>\n      <td>NaN</td>\n      <td>Douglas Paddock Rd</td>\n      <td>1</td>\n      <td>drive/Shareddrives/Thermal File Archive/.UGCS/...</td>\n    </tr>\n    <tr>\n      <th>6118</th>\n      <td>NaN</td>\n      <td>NaN</td>\n      <td>NaN</td>\n      <td>Koala</td>\n      <td>NaN</td>\n      <td>NaN</td>\n      <td>2021-07-19 21:42:00</td>\n      <td>NaN</td>\n      <td>NaN</td>\n      <td>NaN</td>\n      <td>...</td>\n      <td>256</td>\n      <td>NaN</td>\n      <td>0</td>\n      <td>0</td>\n      <td>['drive/Shareddrives/Thermal File Archive/.UGC...</td>\n      <td>NaN</td>\n      <td>NaN</td>\n      <td>Douglas Paddock Rd</td>\n      <td>2</td>\n      <td>drive/Shareddrives/Thermal File Archive/.UGCS/...</td>\n    </tr>\n    <tr>\n      <th>6119</th>\n      <td>NaN</td>\n      <td>NaN</td>\n      <td>Arboreal</td>\n      <td>Koala</td>\n      <td>NaN</td>\n      <td>NaN</td>\n      <td>2022-04-28 22:55:00</td>\n      <td>NaN</td>\n      <td>NaN</td>\n      <td>Arboreal</td>\n      <td>...</td>\n      <td>[17.9, nan]</td>\n      <td>['Sabrina Velasco', 'Fin Murphey']</td>\n      <td>[-33.171415, 0.0]</td>\n      <td>[151.239671, 0.0]</td>\n      <td>['drive/Shareddrives/Thermal File Archive/.UGC...</td>\n      <td>National Parks</td>\n      <td>Kuluwan</td>\n      <td>Kuluwan</td>\n      <td>FR4-5 S</td>\n      <td>drive/Shareddrives/Thermal File Archive/.UGCS/...</td>\n    </tr>\n  </tbody>\n</table>\n<p>6120 rows × 126 columns</p>\n</div>"
     },
     "execution_count": 112,
     "metadata": {},
     "output_type": "execute_result"
    }
   ],
   "source": [
    "import pandas as pd\n",
    "import data_cleaning\n",
    "\n",
    "det_match = pd.read_csv('det_match.csv')\n",
    "det_match"
   ]
  },
  {
   "cell_type": "code",
   "execution_count": 113,
   "outputs": [],
   "source": [
    "det_match = data_cleaning.remove_columns(det_match)\n",
    "\n",
    "det_match['species_name'] = det_match['species_name'].str.strip()\n",
    "det_match['species_name'] = det_match['species_name'].str.title()\n",
    "det_match['species_name'] = det_match['species_name'].str.replace('_', ' ')\n",
    "det_match['species_category'] = det_match['species_category'].str.strip()\n",
    "det_match['species_category'] = det_match['species_category'].str.title()\n",
    "det_match['species_category'] = det_match['species_category'].str.replace('_', ' ')"
   ],
   "metadata": {
    "collapsed": false
   }
  },
  {
   "cell_type": "code",
   "execution_count": 114,
   "outputs": [
    {
     "data": {
      "text/plain": "array(['Brush Tail', 'Aerial', 'Ring Tail', 'Arboreal', 'Bird', 'Possum',\n       'Swamp Wallaby', 'Wallaby', 'Ground', 'Greater Glider', 'Glider',\n       'Koala', 'Sugar Glider', 'Animal In Chimney Hollow', 'Hollow',\n       'Macropod', 'Pig', 'Wombat', 'Hollow Possible Occupants',\n       'Musk Lorikeet', 'Bandicoot', 'No Detection', 'Possum/ Glider',\n       'Chimney Hollow', 'Rabbit', 'Flying-Fox', 'Other', 'Yellow Glider',\n       'Potoroo', 'Eastern Grey', 'Red Necked Wallaby', 'Dingo',\n       'Lorikeet', 'Fethertail Glider', 'Sulfur-Crested', 'Lyre Bird',\n       'White Winged Chough', 'Lyrebird', 'Cannot Tell? Wasp Nest?',\n       'Cat', 'Tree Hollow To Rd', 'Lyre Bied', 'Crimson Roaella',\n       'Mountain Bobuck', 'Currawong', 'Deer', 'Horse',\n       'Possibly Hot Rocks', 'Kangaroo', 'Small', 'Paddy Melon',\n       'Small Possible Bandicoot', 'Potoroo?', 'Feathertail', 'Bandicoit',\n       'Possum / Glider', '2 Macropod 1 Wombat', 'Possum And 2 Macropods',\n       'Possum / Glider Plus Wallaby', 'Vertical Hollow',\n       'Wombat And Wallaby', 'Roosting Birds?',\n       '2 Ground Unsure Medium Size - Review?',\n       'Pademelon/ Parma Wallaby',\n       'Pademelon/ Parma Wallaby (Plus Koala)', 'Pademelon/Parma',\n       'Pademelon', 'Tree Growth/ Termites', 'Echidna', 'Flock Of Birds',\n       'Horses', 'Bird Of Prey', 'Bird Of Prey On Nest', 'Fox',\n       'Birds- Kookaburra', 'Bird On Nest', 'Cow', 'Cows', 'Birds',\n       'Rabbits', 'Dummy', 'Human', 'Bats', 'Bulge On Branch',\n       'Termite Mound', 'Owl', 'Brush Turkey', 'Termite',\n       'Tree Hollow/Bee Hive/Temrites', 'Aboreal', 'Ring-Tailed Possum',\n       'Unknown', 'Brush-Tailed Possum', 'Small Macropod',\n       'Krefts Glider', 'Rock Wallaby', 'Microbat', 'Feathertail Glider',\n       'Mountain Brush-Tailed Possum', 'Bandicoot/ Pademelon?',\n       'Sooty Owl (Off Transecrt)', 'Unknown Ground', 'Bandicoot?',\n       'Macro? Ground', 'Ground Macro?', 'Small Canopy - Ringtails?',\n       'Ground. Not Animal?', 'Small Ground', 'Macropod?',\n       'Sugar/ Squirrel Glider', 'Small Ground. Unknown',\n       'Small Ground Mammal', 'Ground Mammal', 'Ringtail Possum',\n       'Glider - Sugar/ Squirrel?', 'Ground/ Shrub??', 'Macropod ?',\n       'Ground Unknown', 'Possum - Ringtail?', 'Greater Gliders',\n       'Sub-Canopy Possum', 'Small Ground/ Sub -Canopy Unknown',\n       'Small-Ish Bird Or Sugar Glider? (In Flight)',\n       'Unsure. Medium-Sized Detection Half-Way Up Tree.',\n       'Ground, Macropod', 'Glider - Gliding', 'Rocks?', 'Possum/S',\n       'Flying Fox Fly-By', 'Ground/ Sub-Canopy? Possum/ Macropod?',\n       'Single Video, Flying Fox Close', 'Two Birds',\n       'Greater Glider? Plus 2X Ground', 'Ground Unknonw',\n       'Feral Cat - Good Footage',\n       'Probable Greater Glider (Greater Or Yellow-Bellied) Plus Sugar Glider. Cool Footage',\n       'Chimney Hollows', 'Possum/ Greater Glider',\n       'Possum / Greater Glider', 'Glider (Prob Yellow-Bellied)',\n       'Koala (Same Koala)', 'Glider (Seen Airborne Only)',\n       'Several Gliders/ Possums. 4 Probable Yellow-Bellied Gliders? Below (One Seen In Flight) Plus One Sugar Glider At Eye Level',\n       'Small Ground Unknown', 'Glider Gliding', 'Ground Macropod',\n       'Greater Glider And Microbat', 'Small Ground Sub-Canopy',\n       'Small Possum/ Glider', 'Parrot/ Cockatoos ?', 'Possum?',\n       'Maybe Possum (Check Vid?)', 'Glider/ Possum, Unsure',\n       'Possums ? Likely Greater Gliders', 'Parrots',\n       'Greater Glider + 4 Uncertain Canopy (Possums, Gliders, Birds?)',\n       'Macropods', 'Brushtail Possum',\n       'Possum/ Glider - Cant Get Lower To Confirm',\n       'Wombat And Macropod?', 'Probable Greater Glider + Wombat',\n       'Greater Glider Moving Around Good Video', 'Wombats',\n       'Arboreal Unsure (Couldn’T Get Lower) Small, .Ikely Possum',\n       'Possums', 'Probable Brushtail Possum', 'Possum (Ringtail?)',\n       'Greater Glider/ Brushie', 'Rock And Small Roosting Bird?',\n       'Cockatoos And Warm Hollow', 'Owl Sp.', 'Possum - Ringtail ?',\n       'Yellow-Tailed Black Cockatoos (Heard Call)',\n       'Medium Sized Unknown Thermal - Ground/ Very Low Arboreal + Small Roosting Birds',\n       'Hollow Plus Maybe Unknown Arboreal',\n       'Small Arboreal, Cant Get Closer - Possum?',\n       'Probable Possum (Not Koala) - Ringtail?',\n       'Arboreal Termite Nest?', 'Microbat In Flight',\n       '4 Legged Ground Mammal - Maybe Cat?', 'Feral Cat ?',\n       'Macropod (With Joey)',\n       'Unknown Large Ground Detection At Base Of Tree - Sleeping Mammal/S',\n       'Unknown Large Ground Detection Under Tree', 'Macropod With Joey',\n       'Goats', 'Sleeping Large Mammal/S ?',\n       'Unknown Small Ground Detection',\n       'Goat Residual Body Heat Marks ?', 'Goats (Probable)',\n       'Macropod (Eastern Grey Kangaroos)', 'Ground Prob Macropod',\n       'Macropod (Eastern Grey )', 'Dusky Woodswallows - Communal Roost',\n       'Goats Off Transect', 'Hollow ?', 'Emu', 'Common Brushtail Possum',\n       'Macropods And Wombat (3 Animals)', 'Wombat/ Deer?',\n       'Ringtail Possums', 'Rock',\n       'Wallaby And Other Small Ground Mammals?',\n       'Small Ground Detections', 'Ringtail And 3 Small Ground Mammals',\n       'Ringtail Possum ?', 'Powerful Owl', 'Occupied Hollow',\n       'Bandicoot/ Potoroo', 'Wombat?', 'Bandicoot (?)', 'Unsure',\n       'Large Bird, Likely Raptore E.G. Wedge-Tailed Eagle. Maybe Lyrebird',\n       'Possums (Ring-Tail?)', 'Maybe Macropod', 'Brush-Tail Possum',\n       'Maybe Wallaby',\n       'Unsure, Medium Sized Mid-Canopy, Maybe Two Birds',\n       'Wombat Or Deer?', 'Unsure If Anything', 'Probably Macropod',\n       'Wallaby (Multiple)', 'Maybe Rock?', 'Uncertain, Maybe Wombat',\n       'Uncertain', 'Yellow-Bellied Glider', 'Possum Or Glider',\n       'Greater Glider/Possum', 'Glider/Possum', 'Glider Sp.',\n       'Unknown - Not A Koala', 'Possum Sp.', 'Chimney Tree Hollow', nan,\n       'Likely Possum', 'Medium Sized Arboreal', 'Possum/Glider',\n       'Eastern Grey Kangaroo', 'Quoll?', 'Quoll/Cat/Fox',\n       'Greater Glider/Brush-Tailed Possum',\n       'Feather-Tailed Glider Or Bird',\n       'Short-Eared Possum W/ Pouch Young', 'Grey Headed Flying Foxes',\n       'Goat', 'Small Arboreal Sp.', 'Ringtail', 'Arboreal Sp.', 'Hbt',\n       'Ground Sp.', 'Arboreal Sp. -Small', 'Arboreal Sp. Small',\n       'Brush Tail Possum', 'Bats Or Birds', 'Arboreal Sp', 'Horse/Deer',\n       'Wallabies', 'Possum Maybe Quoll?', 'Dog',\n       'Small Ground Detection', 'Horse/Pig/Other', 'Glider And Wombat',\n       'Sheep Or Goat', 'Detection Down Low On Trunk', 'Unvalidated',\n       'Macropod And 2 Small Unkown', 'Small Detection',\n       'Macropod And 2 Small Ground Detections', 'Stag Hollow',\n       'Validate Not Found',\n       'Ns West Start Terrible Reception, Difficult To Descend For Closer Inspection',\n       'Yellow Belly Glider', 'Koala With Joey', 'Pig Or Wombat',\n       'Ground Sp', 'Aus Brushturkeys', 'Possum (X1)', 'Possum (X2)',\n       'Unknown (X2)', 'Wallaby (X2)', 'Unknown (Possum)',\n       'Unknown (Wombat)', 'Unknown (Fast?)', 'Macropod (X2)',\n       'Macropod (X3)', 'Macropod (?)', 'Unknown (Bandicoot/Macropod?)',\n       'Cockatoos (X3)', 'Possum (X3)', 'Goat (X3)', 'Unknown, Small',\n       'Macropod X3', 'Small Glider',\n       'Unknown, Medium (Sleeping Macropod?)', 'Small Mammal (X3)',\n       'Feathertail Gliders (X2)', 'Grey Kangaroo',\n       'Bronzewings (X2) - Validated By Ground Crew',\n       'Occupied Hollow (In Fallen Stag)',\n       'Unknown Mammal (Likely Bandicoot)',\n       'Yellow-Tail Cockatoos (X8) - Validated',\n       'Unidentified Birds (X2)', 'Wallaby/Potoroo?',\n       'Unknown (Small, Likely Possum)', 'Unknown (Small Bird)',\n       'Wombat (X2)', 'Wombat And Small Unidentified Ground',\n       '2X Small Mammal', 'Small Mammal', 'Greater Glider (X2)',\n       'Small Mammal (X2)', 'Mammal (Likely Possum)', 'Small Unknown',\n       'Medium Unknown (Likely Macropod)',\n       'Small Unknown (Likely Bandicoot)', 'Unknown (Likely Bird?)',\n       'Large Glider (Greater Glider/Yellow Bellied Glider)',\n       'Unknown (Low Probability Koala)', 'Small Unknown (Likely Possum)',\n       'Bird (Parrot)', 'Grey Headed Flying Fox', 'Rabbit/Bandicoot',\n       'Possum/Cat', 'Macropod (Large, Grey Kangaroo From Size)',\n       'Possum Or Tree Hollow', 'Pteropus Sp,', 'Small Mammal Sp',\n       'Small Other - Possible Glider', 'Smmall Mammal',\n       'Termite Or Hollow', 'Macopod', 'Canopy', 'Magpies',\n       'Arboreal/Canopy', 'Brushtail/Ringtail', 'Dear', 'Mammal', 'Bat',\n       'Possum/Quoll', 'Dogs', 'Sheep/Goat', 'Horse/Pig', 'Large Owl',\n       'Other - Add Details In Notes', 'Low', 'Brushtail',\n       'Deer/Kangaroo'], dtype=object)"
     },
     "execution_count": 114,
     "metadata": {},
     "output_type": "execute_result"
    }
   ],
   "source": [
    "det_match['species_name'].unique()"
   ],
   "metadata": {
    "collapsed": false
   }
  },
  {
   "cell_type": "code",
   "execution_count": 115,
   "outputs": [],
   "source": [
    "species_name_map = {\n",
    "    'Arboreal': ['Aboreal', 'Medium Sized Arboreal', 'Small Arboreal Sp.', 'Arboreal Sp.', 'Arboreal Sp. -Small',\n",
    "                 'Arboreal Sp. Small', 'Arboreal Sp', 'Arboreal/Canopy',\n",
    "                 'Unsure. Medium-Sized Detection Half-Way Up Tree.', 'Unsure If Anything',\n",
    "                 'Detection Down Low On Trunk'],\n",
    "    'Australian Brushturkey': ['Brush Turkey', 'Aus Brushturkeys'],\n",
    "    'Bandicoot': ['Small Possible Bandicoot', 'Bandicoit', 'Bandicoot/ Pademelon?', 'Bandicoot?', 'Bandicoot/ Potoroo',\n",
    "                  'Bandicoot (?)', 'Unknown (Bandicoot/Macropod?)', 'Unknown Mammal (Likely Bandicoot)',\n",
    "                  'Small Unknown (Likely Bandicoot)', 'Rabbit/Bandicoot'],\n",
    "    'Bat': ['Bats', 'Bats Or Birds'],\n",
    "    'Bird': ['Roosting Birds?', 'Flock Of Birds', 'Bird Of Prey', 'Bird Of Prey On Nest', 'Bird On Nest', 'Birds',\n",
    "             'Small-Ish Bird Or Sugar Glider? (In Flight)', 'Two Birds', 'Rock And Small Roosting Bird?',\n",
    "             'Medium Sized Unknown Thermal - Ground/ Very Low Arboreal + Small Roosting Birds',\n",
    "             'Large Bird, Likely Raptore E.G. Wedge-Tailed Eagle. Maybe Lyrebird',\n",
    "             'Unsure, Medium Sized Mid-Canopy, Maybe Two Birds', 'Unidentified Birds (X2)', 'Unknown (Small Bird)',\n",
    "             'Unknown (Likely Bird?)', 'Bird (Parrot)'],\n",
    "    'Common Bronzewing': ['Bronzewings (X2) - Validated By Ground Crew'],\n",
    "    'Cockatoo': ['Cockatoos And Warm Hollow', 'Cockatoos (X3)'],\n",
    "    'Common Brushtail Possum': ['Brush Tail', 'Brush-Tailed Possum', 'Probable Brushtail Possum', 'Brushtail Possum',\n",
    "                                'Brush-Tail Possum', 'Brush Tail Possum', 'Brushtail'],\n",
    "    'Common Ringtail Possum': ['Ring Tail', 'Ring-Tailed Possum', 'Small Canopy - Ringtails?', 'Possum - Ringtail?',\n",
    "                        'Possum (Ringtail?)', 'Possum - Ringtail ?', 'Probable Possum (Not Koala) - Ringtail?',\n",
    "                        'Ringtail Possums', 'Ringtail And 3 Small Ground Mammals', 'Ringtail Possum ?',\n",
    "                        'Possums (Ring-Tail?)', 'Ringtail'],\n",
    "    'Cow': ['Cows'],\n",
    "    'Cat': ['Feral Cat - Good Footage', '4 Legged Ground Mammal - Maybe Cat?', 'Feral Cat ?'],\n",
    "    'Crimson Rosella': ['Crimson Roaella'],\n",
    "    'Deer': ['Dear', 'Deer/Kangaroo'],\n",
    "    'Dog': ['Dogs'],\n",
    "    'Dusky Woodswallow': ['Dusky Woodswallows - Communal Roost'],\n",
    "    'Eastern Grey Kangaroo': ['Eastern Grey', 'Macropod (Eastern Grey Kangaroos)', 'Macropod (Eastern Grey )',\n",
    "                              'Grey Kangaroo'],\n",
    "    'Feathertail Glider': ['Fethertail Glider', 'Feathertail', 'Feather-Tailed Glider Or Bird',\n",
    "                           'Feathertail Gliders (X2)'],\n",
    "    'Flying Fox': ['Flying-Fox', 'Flying Fox Fly-By', 'Single Video, Flying Fox Close', 'Pteropus Sp,'],\n",
    "    'Glider': ['Glider - Gliding', 'Glider (Seen Airborne Only)', 'Glider Gliding', 'Glider Sp.', 'Glider And Wombat',\n",
    "               'Small Glider', 'Large Glider (Greater Glider/Yellow Bellied Glider)', 'Small Other - Possible Glider'],\n",
    "    'Goat': ['Goats', 'Goat Residual Body Heat Marks ?', 'Goats (Probable)', 'Goats Off Transect', 'Sheep Or Goat',\n",
    "             'Goat (X3)', 'Sheep/Goat'],\n",
    "    'Greater Glider': ['Greater Gliders', 'Greater Glider? Plus 2X Ground',\n",
    "                       'Probable Greater Glider (Greater Or Yellow-Bellied) Plus Sugar Glider. Cool Footage',\n",
    "                       'Greater Glider And Microbat', 'Possums ? Likely Greater Gliders',\n",
    "                       'Greater Glider + 4 Uncertain Canopy (Possums, Gliders, Birds?)',\n",
    "                       'Probable Greater Glider + Wombat', 'Greater Glider Moving Around Good Video',\n",
    "                       'Greater Glider/ Brushie', 'Greater Glider/Brush-Tailed Possum', 'Greater Glider (X2)'],\n",
    "    'Grey-headed Flying Fox': ['Grey Headed Flying Foxes', 'Grey Headed Flying Fox'],\n",
    "    'Ground': ['2 Ground Unsure Medium Size - Review?', 'Unknown Ground', 'Macro? Ground', 'Ground Macro?',\n",
    "               'Ground. Not Animal?', 'Small Ground', 'Small Ground. Unknown', 'Small Ground Mammal', 'Ground Mammal',\n",
    "               'Ground/ Shrub??', 'Ground Unknown', 'Small Ground/ Sub -Canopy Unknown', 'Ground, Macropod',\n",
    "               'Ground/ Sub-Canopy? Possum/ Macropod?', 'Ground Unknonw', 'Small Ground Unknown',\n",
    "               'Small Ground Sub-Canopy', 'Unknown Large Ground Detection At Base Of Tree - Sleeping Mammal/S',\n",
    "               'Unknown Large Ground Detection Under Tree', 'Sleeping Large Mammal/S ?',\n",
    "               'Unknown Small Ground Detection', 'Small Ground Detections', 'Ground Sp.', 'Small Ground Detection',\n",
    "               'Ground Sp', 'Small', 'Unsure'],\n",
    "    'Horse': ['Horses', 'Horse/Deer', 'Horse/Pig/Other', 'Horse/Pig'],\n",
    "    'Koala': ['Pademelon/ Parma Wallaby (Plus Koala)', 'Koala (Same Koala)', 'Koala With Joey',\n",
    "              'Unknown (Low Probability Koala)'],\n",
    "    'Kreffts Glider': ['Krefts Glider'],\n",
    "    'Kookaburra': ['Birds- Kookaburra'],\n",
    "    'Lyrebird': ['Lyre Bird', 'Lyre Bied'],\n",
    "    'Macropod': ['Small Macropod', 'Macropod?', 'Macropod ?', 'Ground Macropod', 'Macropods', 'Macropod (With Joey)',\n",
    "                 'Macropod With Joey', 'Ground Prob Macropod', 'Maybe Macropod', 'Probably Macropod',\n",
    "                 'Macropod And 2 Small Unkown', 'Macropod (X2)', 'Macropod (X3)', 'Macropod (?)', 'Macropod X3',\n",
    "                 'Unknown, Medium (Sleeping Macropod?)', 'Wallaby/Potoroo?', 'Medium Unknown (Likely Macropod)',\n",
    "                 'Macropod (Large, Grey Kangaroo From Size)', 'Macopod', 'Macropod And 2 Small Ground Detections'],\n",
    "    'Magpie': ['Magpies'],\n",
    "    'Microbat': ['Microbat In Flight'],\n",
    "    'Mountain Brushtail Possum': ['Mountain Brush-Tailed Possum'],\n",
    "    'Owl': ['Owl Sp.', 'Large Owl'],\n",
    "    'Pademelon': ['Paddy Melon', 'Pademelon/ Parma Wallaby', 'Pademelon/Parma'],\n",
    "    'Parrot': ['Parrot/ Cockatoos ?', 'Parrots'],\n",
    "    'Potoroo': ['Potoroo?'],\n",
    "    'Possum': ['Possum/ Glider', 'Possum / Glider', 'Possum And 2 Macropods', 'Possum / Glider Plus Wallaby',\n",
    "               'Sub-Canopy Possum', 'Possum/S', 'Possum/ Greater Glider', 'Possum / Greater Glider',\n",
    "               'Small Possum/ Glider', 'Possum?', 'Maybe Possum (Check Vid?)', 'Glider/ Possum, Unsure',\n",
    "               'Possum/ Glider - Cant Get Lower To Confirm', 'Arboreal Unsure (Couldn’T Get Lower) Small, .Ikely Possum',\n",
    "               'Possums', 'Small Arboreal, Cant Get Closer - Possum?', 'Possum Or Glider', 'Greater Glider/Possum',\n",
    "               'Glider/Possum', 'Possum Sp.', 'Likely Possum', 'Possum/Glider', 'Possum Maybe Quoll?', 'Possum (X1)',\n",
    "               'Possum (X2)', 'Unknown (Possum)', 'Possum (X3)', 'Unknown (Small, Likely Possum)',\n",
    "               'Mammal (Likely Possum)', 'Small Unknown (Likely Possum)', 'Possum/Cat', 'Possum Or Tree Hollow',\n",
    "               'Brushtail/Ringtail'],\n",
    "    'Quoll': ['Quoll?', 'Quoll/Cat/Fox', 'Possum/Quoll'],\n",
    "    'Red-necked Wallaby': ['Red Necked Wallaby'],\n",
    "    'Short-eared Possum': ['Short-Eared Possum W/ Pouch Young'],\n",
    "    'Sulfur-crested Cockatoo': ['Sulfur-Crested'],\n",
    "    'Sooty Owl': ['Sooty Owl (Off Transecrt)'],\n",
    "    'Sugar Glider': ['Sugar/ Squirrel Glider', 'Glider - Sugar/ Squirrel?'],\n",
    "    'Rabbit': ['Rabbits'],\n",
    "    'Termite Nest': ['Termite Mound', 'Termite', 'Arboreal Termite Nest?', 'Tree Growth/ Termites', 'Termite Or Hollow'],\n",
    "    'Tree Hollow': ['Animal In Chimney Hollow', 'Hollow Possible Occupants', 'Tree Hollow To Rd',\n",
    "                    'Vertical Hollow', 'Tree Hollow/Bee Hive/Temrites', 'Hollow Plus Maybe Unknown Arboreal', 'Hollow ?',\n",
    "                    'Occupied Hollow', 'Chimney Tree Hollow', 'Chimney Hollow', 'Chimney Hollows', 'Stag Hollow',\n",
    "                    'Occupied Hollow (In Fallen Stag)'],\n",
    "    'Unkown': ['Unknown - Not A Koala', 'Unknown (X2)', 'Unknown (Fast?)', 'Unknown, Small',\n",
    "               'Unvalidated', 'Validate Not Found', 'Small Mammal (X3)', '2X Small Mammal',\n",
    "               'Small Mammal', 'Small Mammal (X2)', 'Small Unknown', 'Small Mammal Sp',\n",
    "               'Smmall Mammal', 'Canopy', 'Mammal', 'Small Detection', 'Low'],\n",
    "    'Yellow-bellied Glider': ['Glider (Prob Yellow-Bellied)',\n",
    "                              'Several Gliders/ Possums. 4 Probable Yellow-Bellied Gliders? Below (One Seen In Flight) Plus One Sugar Glider At Eye Level',\n",
    "                              'Yellow-Bellied Glider', 'Yellow Belly Glider'],\n",
    "    'Yellow-tailed Black Cockatoo': ['Yellow-Tailed Black Cockatoos (Heard Call)',\n",
    "                                     'Yellow-Tail Cockatoos (X8) - Validated'],\n",
    "    'Wallaby': ['Wallaby And Other Small Ground Mammals?', 'Maybe Wallaby', 'Wallaby (Multiple)', 'Wallabies',\n",
    "                'Wallaby (X2)'],\n",
    "    'White-winged Chough': ['White Winged Chough'],\n",
    "    'Wombat': ['2 Macropod 1 Wombat', 'Wombat And Wallaby', 'Wombat And Macropod?', 'Wombats',\n",
    "               'Macropods And Wombat (3 Animals)', 'Wombat/ Deer?', 'Wombat?', 'Wombat Or Deer?',\n",
    "               'Uncertain, Maybe Wombat', 'Pig Or Wombat', 'Unknown (Wombat)', 'Wombat (X2)',\n",
    "               'Wombat And Small Unidentified Ground']\n",
    "}\n",
    "\n",
    "to_remove = ['Dummy', 'Human', 'Bulge On Branch', 'Human', 'No Detection', 'Uncertain',\n",
    "             'Cannot Tell? Wasp Nest?', 'Possibly Hot Rocks', 'Rocks?', 'Rock', 'Maybe Rock?', 'Hbt',\n",
    "             'Ns West Start Terrible Reception, Difficult To Descend For Closer Inspection',\n",
    "             'Other - Add Details In Notes', 'NaN']\n",
    "\n",
    "doubles = ['2 Macropod 1 Wombat', 'Possum And 2 Macropods', 'Wombat And Wallaby',\n",
    "           'Pademelon/ Parma Wallaby (Plus Koala)', 'Greater Glider? Plus 2X Ground',\n",
    "           'Several Gliders/ Possums. 4 Probable Yellow-Bellied Gliders? Below (One Seen In Flight) Plus One Sugar Glider At Eye Level',\n",
    "           'Greater Glider And Microbat', 'Greater Glider + 4 Uncertain Canopy (Possums, Gliders, Birds?)',\n",
    "           'Probable Greater Glider + Wombat', 'Wombat And Macropod?',\n",
    "           'Medium Sized Unknown Thermal - Ground/ Very Low Arboreal + Small Roosting Birds',\n",
    "           'Macropods And Wombat (3 Animals)', 'Ringtail And 3 Small Ground Mammals',\n",
    "           'Glider And Wombat', 'Wombat And Small Unidentified Ground']"
   ],
   "metadata": {
    "collapsed": false
   }
  },
  {
   "cell_type": "code",
   "execution_count": 116,
   "outputs": [
    {
     "data": {
      "text/plain": "array(['Common Brushtail Possum', 'Aerial', 'Common Ringtail Possum',\n       'Arboreal', 'Bird', 'Possum', 'Swamp Wallaby', 'Wallaby', 'Ground',\n       'Greater Glider', 'Glider', 'Koala', 'Sugar Glider', 'Tree Hollow',\n       'Hollow', 'Macropod', 'Pig', 'Wombat', 'Musk Lorikeet',\n       'Bandicoot', 'Rabbit', 'Flying Fox', 'Other', 'Yellow Glider',\n       'Potoroo', 'Eastern Grey Kangaroo', 'Red-necked Wallaby', 'Dingo',\n       'Lorikeet', 'Feathertail Glider', 'Sulfur-crested Cockatoo',\n       'Lyrebird', 'White-winged Chough', 'Cat', 'Crimson Rosella',\n       'Mountain Bobuck', 'Currawong', 'Deer', 'Horse', 'Kangaroo',\n       'Pademelon', 'Termite Nest', 'Echidna', 'Fox', 'Kookaburra', 'Cow',\n       'Bat', 'Owl', 'Australian Brushturkey', 'Unknown',\n       'Kreffts Glider', 'Rock Wallaby', 'Microbat',\n       'Mountain Brushtail Possum', 'Sooty Owl', 'Ringtail Possum',\n       'Yellow-bellied Glider', 'Parrot', 'Cockatoo',\n       'Yellow-tailed Black Cockatoo', 'Goat', 'Dusky Woodswallow', 'Emu',\n       'Powerful Owl', 'Unkown', nan, 'Quoll', 'Short-eared Possum',\n       'Grey-headed Flying Fox', 'Dog', 'Common Bronzewing', 'Magpie'],\n      dtype=object)"
     },
     "execution_count": 116,
     "metadata": {},
     "output_type": "execute_result"
    }
   ],
   "source": [
    "remove_indices = []\n",
    "for idx, name in det_match['species_name'].items():\n",
    "    if (name in to_remove):\n",
    "        remove_indices.append(idx)\n",
    "        continue\n",
    "    for correct_name, alias_list in species_name_map.items():\n",
    "        if (name in alias_list):\n",
    "            det_match.at[idx, 'species_name'] = correct_name\n",
    "            break\n",
    "\n",
    "det_match = det_match.drop(index=remove_indices)\n",
    "\n",
    "det_match['species_name'].unique()"
   ],
   "metadata": {
    "collapsed": false
   }
  },
  {
   "cell_type": "code",
   "execution_count": 96,
   "outputs": [
    {
     "data": {
      "text/plain": "array(['Med', 'High', nan, 'Certain', 'Low', 'Medium', 'Definite',\n       'Definite ', 'Probable', 'med', 'high', 'medium ', 'high ',\n       'Med/High', '0%'], dtype=object)"
     },
     "execution_count": 96,
     "metadata": {},
     "output_type": "execute_result"
    }
   ],
   "source": [
    "det_match['probability'].unique()"
   ],
   "metadata": {
    "collapsed": false
   }
  },
  {
   "cell_type": "code",
   "execution_count": null,
   "outputs": [],
   "source": [
    "probability_map = {\n",
    "    'Low': ['0%'],\n",
    "    'Med': ['Medium', 'Probable', 'med', 'medium'],\n",
    "    'High': ['high', 'Med/High'],\n",
    "    '100%': ['Certain', 'Definite']\n",
    "}"
   ],
   "metadata": {
    "collapsed": false
   }
  },
  {
   "cell_type": "code",
   "execution_count": 110,
   "outputs": [
    {
     "data": {
      "text/plain": "array(['Possum', 'Aerial', 'Arboreal', 'Macropod', 'Ground', 'Glider',\n       'Koala', 'Other', 'Bird', 'Flying-Fox', 'Wombat', 'Aboreal',\n       'Sugar Glider', 'Brush Tail', 'Deer', 'Ring Tail',\n       'Greater Glider', 'Unsure', 'Airborne', 'Airborne, Arboreal',\n       'Both', 'Ground?', 'Arboreal?', nan, 'Canopy',\n       'Arboreal Sub-Canopy', 'Arboreal (Sub-Canopy)',\n       'Arboreal Mid-Canopy', 'Arboreral', 'Ground/ Sub Canopy',\n       'Mid-Canopy', 'Ground/ Sub-Canopy', 'Hollow', 'Arboreal/Ground',\n       'Abroreal', 'Stag Hollow', 'Arborea', 'Ground/Subcanopy',\n       'Unknown', 'Arboeal', 'Arboreal/Canopy'], dtype=object)"
     },
     "execution_count": 110,
     "metadata": {},
     "output_type": "execute_result"
    }
   ],
   "source": [
    "det_match['species_category'].unique()"
   ],
   "metadata": {
    "collapsed": false
   }
  },
  {
   "cell_type": "code",
   "execution_count": null,
   "outputs": [],
   "source": [],
   "metadata": {
    "collapsed": false
   }
  }
 ],
 "metadata": {
  "kernelspec": {
   "display_name": "ml-env",
   "language": "python",
   "name": "python3"
  },
  "language_info": {
   "name": "python",
   "version": "3.10.4 (main, Mar 31 2022, 03:38:35) [Clang 12.0.0 ]"
  },
  "orig_nbformat": 4,
  "vscode": {
   "interpreter": {
    "hash": "50cf1ee85139cd0f1635a7c40230870b8881401e8eb1051183ea9ad383958cc6"
   }
  }
 },
 "nbformat": 4,
 "nbformat_minor": 2
}
